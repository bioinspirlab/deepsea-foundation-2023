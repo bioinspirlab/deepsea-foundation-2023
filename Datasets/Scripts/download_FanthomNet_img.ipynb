{
  "nbformat": 4,
  "nbformat_minor": 0,
  "metadata": {
    "colab": {
      "provenance": []
    },
    "kernelspec": {
      "name": "python3",
      "display_name": "Python 3"
    },
    "language_info": {
      "name": "python"
    }
  },
  "cells": [
    {
      "cell_type": "code",
      "execution_count": null,
      "metadata": {
        "id": "0hN0c3cNobRS",
        "colab": {
          "base_uri": "https://localhost:8080/"
        },
        "outputId": "359795e1-be35-48b0-f4c8-c5ccc55153e7"
      },
      "outputs": [
        {
          "output_type": "stream",
          "name": "stdout",
          "text": [
            "\u001b[2K     \u001b[90m━━━━━━━━━━━━━━━━━━━━━━━━━━━━━━━━━━━━━━━━\u001b[0m \u001b[32m3.4/3.4 MB\u001b[0m \u001b[31m11.5 MB/s\u001b[0m eta \u001b[36m0:00:00\u001b[0m\n",
            "\u001b[2K     \u001b[90m━━━━━━━━━━━━━━━━━━━━━━━━━━━━━━━━━━━━━━━━\u001b[0m \u001b[32m49.4/49.4 kB\u001b[0m \u001b[31m5.9 MB/s\u001b[0m eta \u001b[36m0:00:00\u001b[0m\n",
            "\u001b[2K     \u001b[90m━━━━━━━━━━━━━━━━━━━━━━━━━━━━━━━━━━━━━━━━\u001b[0m \u001b[32m1.6/1.6 MB\u001b[0m \u001b[31m35.2 MB/s\u001b[0m eta \u001b[36m0:00:00\u001b[0m\n",
            "\u001b[?25h"
          ]
        }
      ],
      "source": [
        "!pip install -q -U fathomnet ipyleaflet"
      ]
    },
    {
      "cell_type": "code",
      "source": [
        "import ipywidgets as widgets                      # Provides embedded widgets\n",
        "import ipyleaflet                                 # Provides map widgets\n",
        "import requests                                   # Manages HTTP requests\n",
        "import numpy as np                                # Facilitates array/matrix operations\n",
        "import plotly.express as px                       # Generates nice plots\n",
        "import random                                     # Generates pseudo-random numbers\n",
        "from PIL import Image, ImageFont, ImageDraw       # Facilitates image operations\n",
        "from io import BytesIO"
      ],
      "metadata": {
        "id": "Tk73_ijNomaM"
      },
      "execution_count": null,
      "outputs": []
    },
    {
      "cell_type": "code",
      "source": [
        "from fathomnet.api import images\n",
        "from fathomnet.api import boundingboxes\n"
      ],
      "metadata": {
        "id": "W-EesH9_op7o"
      },
      "execution_count": null,
      "outputs": []
    },
    {
      "cell_type": "code",
      "source": [
        "!pip install -q -U fathomnet pycocotools pandas plotly"
      ],
      "metadata": {
        "id": "Lj6_7gkTqIqh",
        "colab": {
          "base_uri": "https://localhost:8080/"
        },
        "outputId": "7c34da8c-7193-4813-82f5-f2d2c2b0b6f6"
      },
      "execution_count": null,
      "outputs": [
        {
          "output_type": "stream",
          "name": "stdout",
          "text": [
            "\u001b[2K     \u001b[90m━━━━━━━━━━━━━━━━━━━━━━━━━━━━━━━━━━━━━━━━\u001b[0m \u001b[32m12.3/12.3 MB\u001b[0m \u001b[31m55.1 MB/s\u001b[0m eta \u001b[36m0:00:00\u001b[0m\n",
            "\u001b[2K     \u001b[90m━━━━━━━━━━━━━━━━━━━━━━━━━━━━━━━━━━━━━━━━\u001b[0m \u001b[32m15.6/15.6 MB\u001b[0m \u001b[31m49.5 MB/s\u001b[0m eta \u001b[36m0:00:00\u001b[0m\n",
            "\u001b[2K     \u001b[90m━━━━━━━━━━━━━━━━━━━━━━━━━━━━━━━━━━━━━━\u001b[0m \u001b[32m341.8/341.8 kB\u001b[0m \u001b[31m36.9 MB/s\u001b[0m eta \u001b[36m0:00:00\u001b[0m\n",
            "\u001b[?25h\u001b[31mERROR: pip's dependency resolver does not currently take into account all the packages that are installed. This behaviour is the source of the following dependency conflicts.\n",
            "google-colab 1.0.0 requires pandas==1.5.3, but you have pandas 2.1.1 which is incompatible.\u001b[0m\u001b[31m\n",
            "\u001b[0m"
          ]
        }
      ]
    },
    {
      "cell_type": "code",
      "source": [
        "#Mount the Drive to have acces to documents\n",
        "from google.colab import drive\n",
        "\n",
        "drive.mount('/content/drive')\n",
        "#fathomnet-generate --concepts_file [path]/[to]/concepts-for-lsam.txt --format coco --img-download '[path]/[to]/images' --output '[path]/[to]/demo_dataset'\n"
      ],
      "metadata": {
        "colab": {
          "base_uri": "https://localhost:8080/"
        },
        "id": "Q0mjHyTqovbq",
        "outputId": "5437a58b-3aeb-425a-8d03-b8fd49d64648"
      },
      "execution_count": null,
      "outputs": [
        {
          "output_type": "stream",
          "name": "stdout",
          "text": [
            "Mounted at /content/drive\n"
          ]
        }
      ]
    },
    {
      "cell_type": "code",
      "source": [
        "example_image = images.find_by_uuid('79958ac5-832a-488c-9b48-cce7db346497')\n"
      ],
      "metadata": {
        "id": "SOWyJiDDppMo"
      },
      "execution_count": null,
      "outputs": []
    },
    {
      "cell_type": "code",
      "source": [
        "!fathomnet-generate --concepts \"Actinernus,Aegina,Asbestopluma,Atolla,Caridea,Chiroteuthis calyx,Hippasteria,Hormathiidae,Isidella,LRJ complex,Liponema brevicorne,Metridium farcimen,Microstomus pacificus,Pandalus amplus,Paragorgia,Paralomis multispina,Parastenella,Physonectae,Poecilasmatidae,Poeobius meseres,Psamminidae,Ptychogastria polaris,Push Corer,Pyrosoma atlanticum,Scleractinia,Sebastes,Suction Sampler,Swiftia kofoidi,Umbellula sp. 2,Vampyroteuthis infernalis\" --format coco  --output 'drive/MyDrive/Colab_Notebooks/FathomNet/demo_dataset'\n"
      ],
      "metadata": {
        "id": "1FuZVMCgo29l"
      },
      "execution_count": null,
      "outputs": []
    }
  ]
}